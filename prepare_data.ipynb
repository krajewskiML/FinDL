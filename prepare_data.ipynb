{
 "cells": [
  {
   "cell_type": "code",
   "execution_count": 1,
   "metadata": {
    "collapsed": true
   },
   "outputs": [],
   "source": [
    "import yfinance as yf\n",
    "import pandas as pd\n",
    "from finta import TA"
   ]
  },
  {
   "cell_type": "code",
   "execution_count": 28,
   "outputs": [],
   "source": [
    "def create_ta_features(ticker='^GSPC', start_='2010-01-01', end_='2022-12-31', interval_='1d', fillna=True, scale_to_std=False):\n",
    "    \"\"\"\n",
    "    Creates technical analysis features for a given ticker\n",
    "    :param fillna:\n",
    "    :param interval_:\n",
    "    :param end_:\n",
    "    :param start_:\n",
    "    :param ticker: ticker symbol\n",
    "    :return: dataframe with technical analysis features\n",
    "    \"\"\"\n",
    "    # download data\n",
    "    df = yf.download(ticker, start_, end_, interval=interval_)\n",
    "    # rename columns\n",
    "    df.rename(columns={\"Open\": \"open\", \"Adj Close\": \"close\", \"High\": \"high\", \"Low\": \"low\", \"Volume\": \"volume\"}, inplace=True)\n",
    "    # drop close column\n",
    "    df.drop(\"Close\", inplace=True, axis=1)\n",
    "    # get all functions in finta\n",
    "    finta_functions = [func for func in dir(TA) if callable(getattr(TA, func)) and not func.startswith(\"__\")]\n",
    "    # loop through all functions in finta and append the results to the dataframe\n",
    "    # skip functions that throw errors\n",
    "    for func in finta_functions:\n",
    "        try:\n",
    "            df[func] = getattr(TA, func)(df)\n",
    "        except:\n",
    "            pass\n",
    "    # fill in missing values\n",
    "    if fillna:\n",
    "        df.fillna(method='bfill', inplace=True)\n",
    "        df.fillna(method='ffill', inplace=True)\n",
    "    # scale to standard deviation, by column\n",
    "    if scale_to_std:\n",
    "        df = (df - df.mean()) / df.std()\n",
    "    return df"
   ],
   "metadata": {
    "collapsed": false
   }
  },
  {
   "cell_type": "code",
   "execution_count": 30,
   "outputs": [
    {
     "name": "stdout",
     "output_type": "stream",
     "text": [
      "[*********************100%***********************]  1 of 1 completed\n"
     ]
    },
    {
     "name": "stderr",
     "output_type": "stream",
     "text": [
      "C:\\Users\\Pawel\\PycharmProjects\\FinDL\\venv\\lib\\site-packages\\finta\\finta.py:399: FutureWarning: iteritems is deprecated and will be removed in a future version. Use .items instead.\n",
      "  for x, y in zip(x.fillna(0).iteritems(), y.iteritems()):\n",
      "C:\\Users\\Pawel\\PycharmProjects\\FinDL\\venv\\lib\\site-packages\\finta\\finta.py:399: FutureWarning: iteritems is deprecated and will be removed in a future version. Use .items instead.\n",
      "  for x, y in zip(x.fillna(0).iteritems(), y.iteritems()):\n",
      "C:\\Users\\Pawel\\PycharmProjects\\FinDL\\venv\\lib\\site-packages\\finta\\finta.py:399: FutureWarning: iteritems is deprecated and will be removed in a future version. Use .items instead.\n",
      "  for x, y in zip(x.fillna(0).iteritems(), y.iteritems()):\n",
      "C:\\Users\\Pawel\\PycharmProjects\\FinDL\\venv\\lib\\site-packages\\finta\\finta.py:399: FutureWarning: iteritems is deprecated and will be removed in a future version. Use .items instead.\n",
      "  for x, y in zip(x.fillna(0).iteritems(), y.iteritems()):\n",
      "C:\\Users\\Pawel\\PycharmProjects\\FinDL\\venv\\lib\\site-packages\\finta\\finta.py:399: FutureWarning: iteritems is deprecated and will be removed in a future version. Use .items instead.\n",
      "  for x, y in zip(x.fillna(0).iteritems(), y.iteritems()):\n",
      "C:\\Users\\Pawel\\PycharmProjects\\FinDL\\venv\\lib\\site-packages\\finta\\finta.py:292: FutureWarning: iteritems is deprecated and will be removed in a future version. Use .items instead.\n",
      "  sc.iteritems(), sma.shift().iteritems(), ohlc[column].iteritems()\n"
     ]
    },
    {
     "data": {
      "text/plain": "                open      high       low     close    volume       ADL  \\\nDate                                                                     \n2010-01-04 -1.298686 -1.286505 -1.293132 -1.282682  0.057434 -1.916319   \n2010-01-05 -1.282409 -1.283732 -1.279795 -1.279113 -1.483494 -1.910779   \n2010-01-06 -1.279326 -1.281159 -1.275428 -1.278486  1.065213 -1.908295   \n2010-01-07 -1.278759 -1.277874 -1.278105 -1.273885  1.371287 -1.897865   \n2010-01-08 -1.274463 -1.274930 -1.273117 -1.270558  0.466385 -1.888687   \n2010-01-11 -1.268963 -1.270559 -1.267212 -1.268536  0.328959 -1.885902   \n2010-01-12 -1.271137 -1.276517 -1.277647 -1.279416  0.801781 -1.888726   \n2010-01-13 -1.277708 -1.271906 -1.276212 -1.269850  0.241230 -1.882573   \n2010-01-14 -1.269246 -1.269886 -1.265400 -1.267039 -0.020825 -1.878887   \n2010-01-15 -1.267184 -1.272539 -1.278034 -1.279608  0.845501 -1.883623   \n2010-01-19 -1.279002 -1.269846 -1.273575 -1.265249  0.810685 -1.873099   \n2010-01-20 -1.266951 -1.272358 -1.280213 -1.277576  0.898732 -1.873760   \n2010-01-21 -1.276323 -1.278758 -1.294883 -1.299377  3.018234 -1.887610   \n2010-01-22 -1.299768 -1.304972 -1.319988 -1.324373  2.334605 -1.900086   \n2010-01-25 -1.323112 -1.317552 -1.317728 -1.319297  0.560666 -1.901849   \n2010-01-26 -1.319675 -1.316828 -1.320314 -1.323959  0.817956 -1.909085   \n2010-01-27 -1.323577 -1.321028 -1.327185 -1.318569  1.421036 -1.899864   \n2010-01-28 -1.318532 -1.320315 -1.331919 -1.331684  1.557918 -1.905399   \n2010-01-29 -1.327955 -1.324103 -1.338913 -1.342463  1.517299 -1.915549   \n2010-02-01 -1.341826 -1.331206 -1.336572 -1.326972  0.145974 -1.906415   \n\n                 ADX        AO       ATR   BBWIDTH  ...      VAMA       VBM  \\\nDate                                                ...                       \n2010-01-04  7.381934 -0.234498 -0.653191  0.683799  ... -1.286692  0.747361   \n2010-01-05  7.381934 -0.234498 -0.653191  0.683799  ... -1.286692  0.747361   \n2010-01-06  7.381934 -0.234498 -0.653191  0.683799  ... -1.286692  0.747361   \n2010-01-07  7.381934 -0.234498 -0.653191  0.683799  ... -1.286692  0.747361   \n2010-01-08  7.381934 -0.234498 -0.653191  0.683799  ... -1.286692  0.747361   \n2010-01-11  7.381934 -0.234498 -0.653191  0.683799  ... -1.286692  0.747361   \n2010-01-12  7.381934 -0.234498 -0.653191  0.683799  ... -1.286692  0.747361   \n2010-01-13  7.381934 -0.234498 -0.653191  0.683799  ... -1.286692  0.747361   \n2010-01-14  7.381934 -0.234498 -0.653191  0.683799  ... -1.286692  0.747361   \n2010-01-15  7.381934 -0.234498 -0.653191  0.683799  ... -1.286692  0.747361   \n2010-01-19  7.381934 -0.234498 -0.653191  0.683799  ... -1.286692  0.747361   \n2010-01-20  7.381934 -0.234498 -0.653191  0.683799  ... -1.286692  0.747361   \n2010-01-21  7.381934 -0.234498 -0.653191  0.683799  ... -1.286692  0.747361   \n2010-01-22  7.381934 -0.234498 -0.653191  0.683799  ... -1.286692  0.747361   \n2010-01-25  7.381934 -0.234498 -0.671048  0.683799  ... -1.286692  0.747361   \n2010-01-26  7.381934 -0.234498 -0.650966  0.683799  ... -1.292620  0.747361   \n2010-01-27  7.381934 -0.234498 -0.618295  0.683799  ... -1.298376  0.747361   \n2010-01-28  7.381934 -0.234498 -0.587205  0.683799  ... -1.304561  0.747361   \n2010-01-29  7.381934 -0.234498 -0.541273  0.683799  ... -1.313864  0.747361   \n2010-02-01  7.381934 -0.234498 -0.518468  0.683799  ... -1.320043  0.747361   \n\n                 VFI       VPT      VWAP       VZO  WILLIAMS       WMA  \\\nDate                                                                     \n2010-01-04 -1.050971 -1.895904 -1.302407 -0.295221 -1.980814 -1.271013   \n2010-01-05 -1.050971 -1.889920 -1.295902  1.288806 -1.980814 -1.271013   \n2010-01-06 -1.050971 -1.884033 -1.288545  2.368653 -1.980814 -1.271013   \n2010-01-07 -1.050971 -1.872910 -1.284095  2.788762 -1.980814 -1.271013   \n2010-01-08 -1.050971 -1.863650 -1.280066  2.974177 -1.980814 -1.271013   \n2010-01-11 -1.050971 -1.861210 -1.275712  3.091776 -1.980814 -1.271013   \n2010-01-12 -1.050971 -1.874107 -1.276012  1.469591 -1.980814 -1.271013   \n2010-01-13 -1.050971 -1.864159 -1.274566  1.848202 -1.980814 -1.271013   \n2010-01-14 -1.050971 -1.857016 -1.272115  2.125158 -1.980814 -1.271013   \n2010-01-15 -1.050971 -1.871748 -1.272398  0.937330 -1.980814 -1.272056   \n2010-01-19 -1.050971 -1.851923 -1.270783  1.396246 -1.980814 -1.270293   \n2010-01-20 -1.050971 -1.862981 -1.271135  0.441058 -1.980814 -1.271306   \n2010-01-21 -1.050971 -1.887737 -1.275822 -0.568681 -1.980814 -1.276703   \n2010-01-22 -1.050971 -1.912987 -1.285451 -1.231560 -1.980814 -1.286536   \n2010-01-25 -1.050971 -1.904932 -1.291636 -0.590100 -1.712965 -1.294156   \n2010-01-26 -1.050971 -1.910319 -1.297717 -1.085704 -1.942509 -1.301580   \n2010-01-27 -1.050971 -1.902497 -1.304019 -0.374036 -1.377931 -1.306934   \n2010-01-28 -1.050971 -1.915975 -1.310607 -0.949843 -1.793966 -1.313831   \n2010-01-29 -1.050971 -1.928951 -1.317472 -1.422722 -1.972138 -1.321447   \n2010-02-01 -1.050971 -1.911481 -1.321732 -0.852495 -1.347420 -1.324564   \n\n                WOBV     ZLEMA  \nDate                            \n2010-01-04 -1.099913 -1.313648  \n2010-01-05 -1.099913 -1.313648  \n2010-01-06 -1.098161 -1.313648  \n2010-01-07 -1.084537 -1.313648  \n2010-01-08 -1.076332 -1.313648  \n2010-01-11 -1.071497 -1.313648  \n2010-01-12 -1.100326 -1.313648  \n2010-01-13 -1.077913 -1.313648  \n2010-01-14 -1.071730 -1.313648  \n2010-01-15 -1.105334 -1.313648  \n2010-01-19 -1.067218 -1.313648  \n2010-01-20 -1.100533 -1.313648  \n2010-01-21 -1.184733 -1.313648  \n2010-01-22 -1.271926 -1.341424  \n2010-01-25 -1.259145 -1.347246  \n2010-01-26 -1.271538 -1.354036  \n2010-01-27 -1.255432 -1.356369  \n2010-01-28 -1.295607 -1.363567  \n2010-01-29 -1.328388 -1.370575  \n2010-02-01 -1.292899 -1.372349  \n\n[20 rows x 66 columns]",
      "text/html": "<div>\n<style scoped>\n    .dataframe tbody tr th:only-of-type {\n        vertical-align: middle;\n    }\n\n    .dataframe tbody tr th {\n        vertical-align: top;\n    }\n\n    .dataframe thead th {\n        text-align: right;\n    }\n</style>\n<table border=\"1\" class=\"dataframe\">\n  <thead>\n    <tr style=\"text-align: right;\">\n      <th></th>\n      <th>open</th>\n      <th>high</th>\n      <th>low</th>\n      <th>close</th>\n      <th>volume</th>\n      <th>ADL</th>\n      <th>ADX</th>\n      <th>AO</th>\n      <th>ATR</th>\n      <th>BBWIDTH</th>\n      <th>...</th>\n      <th>VAMA</th>\n      <th>VBM</th>\n      <th>VFI</th>\n      <th>VPT</th>\n      <th>VWAP</th>\n      <th>VZO</th>\n      <th>WILLIAMS</th>\n      <th>WMA</th>\n      <th>WOBV</th>\n      <th>ZLEMA</th>\n    </tr>\n    <tr>\n      <th>Date</th>\n      <th></th>\n      <th></th>\n      <th></th>\n      <th></th>\n      <th></th>\n      <th></th>\n      <th></th>\n      <th></th>\n      <th></th>\n      <th></th>\n      <th></th>\n      <th></th>\n      <th></th>\n      <th></th>\n      <th></th>\n      <th></th>\n      <th></th>\n      <th></th>\n      <th></th>\n      <th></th>\n      <th></th>\n    </tr>\n  </thead>\n  <tbody>\n    <tr>\n      <th>2010-01-04</th>\n      <td>-1.298686</td>\n      <td>-1.286505</td>\n      <td>-1.293132</td>\n      <td>-1.282682</td>\n      <td>0.057434</td>\n      <td>-1.916319</td>\n      <td>7.381934</td>\n      <td>-0.234498</td>\n      <td>-0.653191</td>\n      <td>0.683799</td>\n      <td>...</td>\n      <td>-1.286692</td>\n      <td>0.747361</td>\n      <td>-1.050971</td>\n      <td>-1.895904</td>\n      <td>-1.302407</td>\n      <td>-0.295221</td>\n      <td>-1.980814</td>\n      <td>-1.271013</td>\n      <td>-1.099913</td>\n      <td>-1.313648</td>\n    </tr>\n    <tr>\n      <th>2010-01-05</th>\n      <td>-1.282409</td>\n      <td>-1.283732</td>\n      <td>-1.279795</td>\n      <td>-1.279113</td>\n      <td>-1.483494</td>\n      <td>-1.910779</td>\n      <td>7.381934</td>\n      <td>-0.234498</td>\n      <td>-0.653191</td>\n      <td>0.683799</td>\n      <td>...</td>\n      <td>-1.286692</td>\n      <td>0.747361</td>\n      <td>-1.050971</td>\n      <td>-1.889920</td>\n      <td>-1.295902</td>\n      <td>1.288806</td>\n      <td>-1.980814</td>\n      <td>-1.271013</td>\n      <td>-1.099913</td>\n      <td>-1.313648</td>\n    </tr>\n    <tr>\n      <th>2010-01-06</th>\n      <td>-1.279326</td>\n      <td>-1.281159</td>\n      <td>-1.275428</td>\n      <td>-1.278486</td>\n      <td>1.065213</td>\n      <td>-1.908295</td>\n      <td>7.381934</td>\n      <td>-0.234498</td>\n      <td>-0.653191</td>\n      <td>0.683799</td>\n      <td>...</td>\n      <td>-1.286692</td>\n      <td>0.747361</td>\n      <td>-1.050971</td>\n      <td>-1.884033</td>\n      <td>-1.288545</td>\n      <td>2.368653</td>\n      <td>-1.980814</td>\n      <td>-1.271013</td>\n      <td>-1.098161</td>\n      <td>-1.313648</td>\n    </tr>\n    <tr>\n      <th>2010-01-07</th>\n      <td>-1.278759</td>\n      <td>-1.277874</td>\n      <td>-1.278105</td>\n      <td>-1.273885</td>\n      <td>1.371287</td>\n      <td>-1.897865</td>\n      <td>7.381934</td>\n      <td>-0.234498</td>\n      <td>-0.653191</td>\n      <td>0.683799</td>\n      <td>...</td>\n      <td>-1.286692</td>\n      <td>0.747361</td>\n      <td>-1.050971</td>\n      <td>-1.872910</td>\n      <td>-1.284095</td>\n      <td>2.788762</td>\n      <td>-1.980814</td>\n      <td>-1.271013</td>\n      <td>-1.084537</td>\n      <td>-1.313648</td>\n    </tr>\n    <tr>\n      <th>2010-01-08</th>\n      <td>-1.274463</td>\n      <td>-1.274930</td>\n      <td>-1.273117</td>\n      <td>-1.270558</td>\n      <td>0.466385</td>\n      <td>-1.888687</td>\n      <td>7.381934</td>\n      <td>-0.234498</td>\n      <td>-0.653191</td>\n      <td>0.683799</td>\n      <td>...</td>\n      <td>-1.286692</td>\n      <td>0.747361</td>\n      <td>-1.050971</td>\n      <td>-1.863650</td>\n      <td>-1.280066</td>\n      <td>2.974177</td>\n      <td>-1.980814</td>\n      <td>-1.271013</td>\n      <td>-1.076332</td>\n      <td>-1.313648</td>\n    </tr>\n    <tr>\n      <th>2010-01-11</th>\n      <td>-1.268963</td>\n      <td>-1.270559</td>\n      <td>-1.267212</td>\n      <td>-1.268536</td>\n      <td>0.328959</td>\n      <td>-1.885902</td>\n      <td>7.381934</td>\n      <td>-0.234498</td>\n      <td>-0.653191</td>\n      <td>0.683799</td>\n      <td>...</td>\n      <td>-1.286692</td>\n      <td>0.747361</td>\n      <td>-1.050971</td>\n      <td>-1.861210</td>\n      <td>-1.275712</td>\n      <td>3.091776</td>\n      <td>-1.980814</td>\n      <td>-1.271013</td>\n      <td>-1.071497</td>\n      <td>-1.313648</td>\n    </tr>\n    <tr>\n      <th>2010-01-12</th>\n      <td>-1.271137</td>\n      <td>-1.276517</td>\n      <td>-1.277647</td>\n      <td>-1.279416</td>\n      <td>0.801781</td>\n      <td>-1.888726</td>\n      <td>7.381934</td>\n      <td>-0.234498</td>\n      <td>-0.653191</td>\n      <td>0.683799</td>\n      <td>...</td>\n      <td>-1.286692</td>\n      <td>0.747361</td>\n      <td>-1.050971</td>\n      <td>-1.874107</td>\n      <td>-1.276012</td>\n      <td>1.469591</td>\n      <td>-1.980814</td>\n      <td>-1.271013</td>\n      <td>-1.100326</td>\n      <td>-1.313648</td>\n    </tr>\n    <tr>\n      <th>2010-01-13</th>\n      <td>-1.277708</td>\n      <td>-1.271906</td>\n      <td>-1.276212</td>\n      <td>-1.269850</td>\n      <td>0.241230</td>\n      <td>-1.882573</td>\n      <td>7.381934</td>\n      <td>-0.234498</td>\n      <td>-0.653191</td>\n      <td>0.683799</td>\n      <td>...</td>\n      <td>-1.286692</td>\n      <td>0.747361</td>\n      <td>-1.050971</td>\n      <td>-1.864159</td>\n      <td>-1.274566</td>\n      <td>1.848202</td>\n      <td>-1.980814</td>\n      <td>-1.271013</td>\n      <td>-1.077913</td>\n      <td>-1.313648</td>\n    </tr>\n    <tr>\n      <th>2010-01-14</th>\n      <td>-1.269246</td>\n      <td>-1.269886</td>\n      <td>-1.265400</td>\n      <td>-1.267039</td>\n      <td>-0.020825</td>\n      <td>-1.878887</td>\n      <td>7.381934</td>\n      <td>-0.234498</td>\n      <td>-0.653191</td>\n      <td>0.683799</td>\n      <td>...</td>\n      <td>-1.286692</td>\n      <td>0.747361</td>\n      <td>-1.050971</td>\n      <td>-1.857016</td>\n      <td>-1.272115</td>\n      <td>2.125158</td>\n      <td>-1.980814</td>\n      <td>-1.271013</td>\n      <td>-1.071730</td>\n      <td>-1.313648</td>\n    </tr>\n    <tr>\n      <th>2010-01-15</th>\n      <td>-1.267184</td>\n      <td>-1.272539</td>\n      <td>-1.278034</td>\n      <td>-1.279608</td>\n      <td>0.845501</td>\n      <td>-1.883623</td>\n      <td>7.381934</td>\n      <td>-0.234498</td>\n      <td>-0.653191</td>\n      <td>0.683799</td>\n      <td>...</td>\n      <td>-1.286692</td>\n      <td>0.747361</td>\n      <td>-1.050971</td>\n      <td>-1.871748</td>\n      <td>-1.272398</td>\n      <td>0.937330</td>\n      <td>-1.980814</td>\n      <td>-1.272056</td>\n      <td>-1.105334</td>\n      <td>-1.313648</td>\n    </tr>\n    <tr>\n      <th>2010-01-19</th>\n      <td>-1.279002</td>\n      <td>-1.269846</td>\n      <td>-1.273575</td>\n      <td>-1.265249</td>\n      <td>0.810685</td>\n      <td>-1.873099</td>\n      <td>7.381934</td>\n      <td>-0.234498</td>\n      <td>-0.653191</td>\n      <td>0.683799</td>\n      <td>...</td>\n      <td>-1.286692</td>\n      <td>0.747361</td>\n      <td>-1.050971</td>\n      <td>-1.851923</td>\n      <td>-1.270783</td>\n      <td>1.396246</td>\n      <td>-1.980814</td>\n      <td>-1.270293</td>\n      <td>-1.067218</td>\n      <td>-1.313648</td>\n    </tr>\n    <tr>\n      <th>2010-01-20</th>\n      <td>-1.266951</td>\n      <td>-1.272358</td>\n      <td>-1.280213</td>\n      <td>-1.277576</td>\n      <td>0.898732</td>\n      <td>-1.873760</td>\n      <td>7.381934</td>\n      <td>-0.234498</td>\n      <td>-0.653191</td>\n      <td>0.683799</td>\n      <td>...</td>\n      <td>-1.286692</td>\n      <td>0.747361</td>\n      <td>-1.050971</td>\n      <td>-1.862981</td>\n      <td>-1.271135</td>\n      <td>0.441058</td>\n      <td>-1.980814</td>\n      <td>-1.271306</td>\n      <td>-1.100533</td>\n      <td>-1.313648</td>\n    </tr>\n    <tr>\n      <th>2010-01-21</th>\n      <td>-1.276323</td>\n      <td>-1.278758</td>\n      <td>-1.294883</td>\n      <td>-1.299377</td>\n      <td>3.018234</td>\n      <td>-1.887610</td>\n      <td>7.381934</td>\n      <td>-0.234498</td>\n      <td>-0.653191</td>\n      <td>0.683799</td>\n      <td>...</td>\n      <td>-1.286692</td>\n      <td>0.747361</td>\n      <td>-1.050971</td>\n      <td>-1.887737</td>\n      <td>-1.275822</td>\n      <td>-0.568681</td>\n      <td>-1.980814</td>\n      <td>-1.276703</td>\n      <td>-1.184733</td>\n      <td>-1.313648</td>\n    </tr>\n    <tr>\n      <th>2010-01-22</th>\n      <td>-1.299768</td>\n      <td>-1.304972</td>\n      <td>-1.319988</td>\n      <td>-1.324373</td>\n      <td>2.334605</td>\n      <td>-1.900086</td>\n      <td>7.381934</td>\n      <td>-0.234498</td>\n      <td>-0.653191</td>\n      <td>0.683799</td>\n      <td>...</td>\n      <td>-1.286692</td>\n      <td>0.747361</td>\n      <td>-1.050971</td>\n      <td>-1.912987</td>\n      <td>-1.285451</td>\n      <td>-1.231560</td>\n      <td>-1.980814</td>\n      <td>-1.286536</td>\n      <td>-1.271926</td>\n      <td>-1.341424</td>\n    </tr>\n    <tr>\n      <th>2010-01-25</th>\n      <td>-1.323112</td>\n      <td>-1.317552</td>\n      <td>-1.317728</td>\n      <td>-1.319297</td>\n      <td>0.560666</td>\n      <td>-1.901849</td>\n      <td>7.381934</td>\n      <td>-0.234498</td>\n      <td>-0.671048</td>\n      <td>0.683799</td>\n      <td>...</td>\n      <td>-1.286692</td>\n      <td>0.747361</td>\n      <td>-1.050971</td>\n      <td>-1.904932</td>\n      <td>-1.291636</td>\n      <td>-0.590100</td>\n      <td>-1.712965</td>\n      <td>-1.294156</td>\n      <td>-1.259145</td>\n      <td>-1.347246</td>\n    </tr>\n    <tr>\n      <th>2010-01-26</th>\n      <td>-1.319675</td>\n      <td>-1.316828</td>\n      <td>-1.320314</td>\n      <td>-1.323959</td>\n      <td>0.817956</td>\n      <td>-1.909085</td>\n      <td>7.381934</td>\n      <td>-0.234498</td>\n      <td>-0.650966</td>\n      <td>0.683799</td>\n      <td>...</td>\n      <td>-1.292620</td>\n      <td>0.747361</td>\n      <td>-1.050971</td>\n      <td>-1.910319</td>\n      <td>-1.297717</td>\n      <td>-1.085704</td>\n      <td>-1.942509</td>\n      <td>-1.301580</td>\n      <td>-1.271538</td>\n      <td>-1.354036</td>\n    </tr>\n    <tr>\n      <th>2010-01-27</th>\n      <td>-1.323577</td>\n      <td>-1.321028</td>\n      <td>-1.327185</td>\n      <td>-1.318569</td>\n      <td>1.421036</td>\n      <td>-1.899864</td>\n      <td>7.381934</td>\n      <td>-0.234498</td>\n      <td>-0.618295</td>\n      <td>0.683799</td>\n      <td>...</td>\n      <td>-1.298376</td>\n      <td>0.747361</td>\n      <td>-1.050971</td>\n      <td>-1.902497</td>\n      <td>-1.304019</td>\n      <td>-0.374036</td>\n      <td>-1.377931</td>\n      <td>-1.306934</td>\n      <td>-1.255432</td>\n      <td>-1.356369</td>\n    </tr>\n    <tr>\n      <th>2010-01-28</th>\n      <td>-1.318532</td>\n      <td>-1.320315</td>\n      <td>-1.331919</td>\n      <td>-1.331684</td>\n      <td>1.557918</td>\n      <td>-1.905399</td>\n      <td>7.381934</td>\n      <td>-0.234498</td>\n      <td>-0.587205</td>\n      <td>0.683799</td>\n      <td>...</td>\n      <td>-1.304561</td>\n      <td>0.747361</td>\n      <td>-1.050971</td>\n      <td>-1.915975</td>\n      <td>-1.310607</td>\n      <td>-0.949843</td>\n      <td>-1.793966</td>\n      <td>-1.313831</td>\n      <td>-1.295607</td>\n      <td>-1.363567</td>\n    </tr>\n    <tr>\n      <th>2010-01-29</th>\n      <td>-1.327955</td>\n      <td>-1.324103</td>\n      <td>-1.338913</td>\n      <td>-1.342463</td>\n      <td>1.517299</td>\n      <td>-1.915549</td>\n      <td>7.381934</td>\n      <td>-0.234498</td>\n      <td>-0.541273</td>\n      <td>0.683799</td>\n      <td>...</td>\n      <td>-1.313864</td>\n      <td>0.747361</td>\n      <td>-1.050971</td>\n      <td>-1.928951</td>\n      <td>-1.317472</td>\n      <td>-1.422722</td>\n      <td>-1.972138</td>\n      <td>-1.321447</td>\n      <td>-1.328388</td>\n      <td>-1.370575</td>\n    </tr>\n    <tr>\n      <th>2010-02-01</th>\n      <td>-1.341826</td>\n      <td>-1.331206</td>\n      <td>-1.336572</td>\n      <td>-1.326972</td>\n      <td>0.145974</td>\n      <td>-1.906415</td>\n      <td>7.381934</td>\n      <td>-0.234498</td>\n      <td>-0.518468</td>\n      <td>0.683799</td>\n      <td>...</td>\n      <td>-1.320043</td>\n      <td>0.747361</td>\n      <td>-1.050971</td>\n      <td>-1.911481</td>\n      <td>-1.321732</td>\n      <td>-0.852495</td>\n      <td>-1.347420</td>\n      <td>-1.324564</td>\n      <td>-1.292899</td>\n      <td>-1.372349</td>\n    </tr>\n  </tbody>\n</table>\n<p>20 rows × 66 columns</p>\n</div>"
     },
     "execution_count": 30,
     "metadata": {},
     "output_type": "execute_result"
    }
   ],
   "source": [
    "create_ta_features(scale_to_std=True).head(20)"
   ],
   "metadata": {
    "collapsed": false
   }
  },
  {
   "cell_type": "code",
   "execution_count": null,
   "outputs": [],
   "source": [],
   "metadata": {
    "collapsed": false
   }
  }
 ],
 "metadata": {
  "kernelspec": {
   "display_name": "Python 3",
   "language": "python",
   "name": "python3"
  },
  "language_info": {
   "codemirror_mode": {
    "name": "ipython",
    "version": 2
   },
   "file_extension": ".py",
   "mimetype": "text/x-python",
   "name": "python",
   "nbconvert_exporter": "python",
   "pygments_lexer": "ipython2",
   "version": "2.7.6"
  }
 },
 "nbformat": 4,
 "nbformat_minor": 0
}
