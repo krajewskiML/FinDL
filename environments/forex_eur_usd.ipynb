{
 "cells": [
  {
   "cell_type": "code",
   "execution_count": 1,
   "metadata": {
    "collapsed": true,
    "ExecuteTime": {
     "start_time": "2023-04-01T23:20:56.330343Z",
     "end_time": "2023-04-01T23:20:59.085201Z"
    }
   },
   "outputs": [],
   "source": [
    "from environments.utils import create_ta_features, add_time_features, get_data\n",
    "import matplotlib.pyplot as plt\n",
    "import numpy as np\n",
    "import pandas as pd\n",
    "import os"
   ]
  },
  {
   "cell_type": "code",
   "execution_count": 4,
   "outputs": [
    {
     "data": {
      "text/plain": "         Date   Time      BO      BH      BL      BC  BCh      AO      AH  \\\n0  2005-01-02  18:29  1.3555  1.3555  1.3555  1.3555  0.0  1.3565  1.3565   \n1  2005-01-02  18:38  1.3555  1.3555  1.3555  1.3555  0.0  1.3565  1.3565   \n2  2005-01-02  18:51  1.3562  1.3562  1.3562  1.3562  0.0  1.3572  1.3572   \n3  2005-01-02  18:52  1.3560  1.3560  1.3560  1.3560  0.0  1.3570  1.3570   \n4  2005-01-02  18:55  1.3563  1.3563  1.3563  1.3563  0.0  1.3573  1.3573   \n\n       AL      AC  ACh  \n0  1.3565  1.3565  0.0  \n1  1.3565  1.3565  0.0  \n2  1.3572  1.3572  0.0  \n3  1.3570  1.3570  0.0  \n4  1.3573  1.3573  0.0  ",
      "text/html": "<div>\n<style scoped>\n    .dataframe tbody tr th:only-of-type {\n        vertical-align: middle;\n    }\n\n    .dataframe tbody tr th {\n        vertical-align: top;\n    }\n\n    .dataframe thead th {\n        text-align: right;\n    }\n</style>\n<table border=\"1\" class=\"dataframe\">\n  <thead>\n    <tr style=\"text-align: right;\">\n      <th></th>\n      <th>Date</th>\n      <th>Time</th>\n      <th>BO</th>\n      <th>BH</th>\n      <th>BL</th>\n      <th>BC</th>\n      <th>BCh</th>\n      <th>AO</th>\n      <th>AH</th>\n      <th>AL</th>\n      <th>AC</th>\n      <th>ACh</th>\n    </tr>\n  </thead>\n  <tbody>\n    <tr>\n      <th>0</th>\n      <td>2005-01-02</td>\n      <td>18:29</td>\n      <td>1.3555</td>\n      <td>1.3555</td>\n      <td>1.3555</td>\n      <td>1.3555</td>\n      <td>0.0</td>\n      <td>1.3565</td>\n      <td>1.3565</td>\n      <td>1.3565</td>\n      <td>1.3565</td>\n      <td>0.0</td>\n    </tr>\n    <tr>\n      <th>1</th>\n      <td>2005-01-02</td>\n      <td>18:38</td>\n      <td>1.3555</td>\n      <td>1.3555</td>\n      <td>1.3555</td>\n      <td>1.3555</td>\n      <td>0.0</td>\n      <td>1.3565</td>\n      <td>1.3565</td>\n      <td>1.3565</td>\n      <td>1.3565</td>\n      <td>0.0</td>\n    </tr>\n    <tr>\n      <th>2</th>\n      <td>2005-01-02</td>\n      <td>18:51</td>\n      <td>1.3562</td>\n      <td>1.3562</td>\n      <td>1.3562</td>\n      <td>1.3562</td>\n      <td>0.0</td>\n      <td>1.3572</td>\n      <td>1.3572</td>\n      <td>1.3572</td>\n      <td>1.3572</td>\n      <td>0.0</td>\n    </tr>\n    <tr>\n      <th>3</th>\n      <td>2005-01-02</td>\n      <td>18:52</td>\n      <td>1.3560</td>\n      <td>1.3560</td>\n      <td>1.3560</td>\n      <td>1.3560</td>\n      <td>0.0</td>\n      <td>1.3570</td>\n      <td>1.3570</td>\n      <td>1.3570</td>\n      <td>1.3570</td>\n      <td>0.0</td>\n    </tr>\n    <tr>\n      <th>4</th>\n      <td>2005-01-02</td>\n      <td>18:55</td>\n      <td>1.3563</td>\n      <td>1.3563</td>\n      <td>1.3563</td>\n      <td>1.3563</td>\n      <td>0.0</td>\n      <td>1.3573</td>\n      <td>1.3573</td>\n      <td>1.3573</td>\n      <td>1.3573</td>\n      <td>0.0</td>\n    </tr>\n  </tbody>\n</table>\n</div>"
     },
     "execution_count": 4,
     "metadata": {},
     "output_type": "execute_result"
    }
   ],
   "source": [
    "path_to_forex = \"C:/Users/Maciej/PycharmProjects/FinDL/data/eurusd_minute.csv\"\n",
    "forex_df = pd.read_csv(path_to_forex)\n",
    "forex_df.head()"
   ],
   "metadata": {
    "collapsed": false,
    "ExecuteTime": {
     "start_time": "2023-04-01T23:23:33.895842Z",
     "end_time": "2023-04-01T23:23:40.508955Z"
    }
   }
  },
  {
   "cell_type": "code",
   "execution_count": null,
   "outputs": [],
   "source": [
    "# rename columns so it can be processed by function that creates technical indicators\n",
    "forex_df = forex_df.rename(columns={\"Data\": \"date\", \"<TIME>\": \"time\", \"BO\": \"open\", \"BH\": \"high\",\n",
    "                                    \"BL\": \"low\", \"BC\": \"close\"})"
   ],
   "metadata": {
    "collapsed": false
   }
  }
 ],
 "metadata": {
  "kernelspec": {
   "display_name": "Python 3",
   "language": "python",
   "name": "python3"
  },
  "language_info": {
   "codemirror_mode": {
    "name": "ipython",
    "version": 2
   },
   "file_extension": ".py",
   "mimetype": "text/x-python",
   "name": "python",
   "nbconvert_exporter": "python",
   "pygments_lexer": "ipython2",
   "version": "2.7.6"
  }
 },
 "nbformat": 4,
 "nbformat_minor": 0
}
